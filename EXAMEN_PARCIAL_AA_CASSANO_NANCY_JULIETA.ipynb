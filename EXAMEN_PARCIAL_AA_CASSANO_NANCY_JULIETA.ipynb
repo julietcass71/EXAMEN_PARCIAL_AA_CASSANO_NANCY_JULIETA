{
  "nbformat": 4,
  "nbformat_minor": 0,
  "metadata": {
    "colab": {
      "provenance": []
    },
    "kernelspec": {
      "name": "python3",
      "display_name": "Python 3"
    },
    "language_info": {
      "name": "python"
    }
  },
  "cells": [
    {
      "cell_type": "code",
      "source": [
        "!pip install cookiecutter\n"
      ],
      "metadata": {
        "id": "h1zoVPAWSC0r"
      },
      "execution_count": null,
      "outputs": []
    },
    {
      "cell_type": "code",
      "source": [
        "!cookiecutter -c v1 https://github.com/drivendata/cookiecutter-data-science\n"
      ],
      "metadata": {
        "id": "xoM3JmbWSJMM"
      },
      "execution_count": null,
      "outputs": []
    },
    {
      "cell_type": "code",
      "source": [
        "!ls\n"
      ],
      "metadata": {
        "id": "c_XGPA7mTtek"
      },
      "execution_count": null,
      "outputs": []
    },
    {
      "cell_type": "code",
      "source": [
        "%cd /content/EXAMEN_PARCIAL_AA_CASSANO_NANCY_JULIETA\n",
        "!ls\n",
        "!find . -maxdepth 2 -type d | sort\n"
      ],
      "metadata": {
        "id": "yX3bruUcT0LR"
      },
      "execution_count": null,
      "outputs": []
    },
    {
      "cell_type": "code",
      "source": [
        "from google.colab import files\n",
        "uploaded = files.upload()\n",
        "\n",
        "\n"
      ],
      "metadata": {
        "id": "Ck3KPY5LUGSf"
      },
      "execution_count": null,
      "outputs": []
    },
    {
      "cell_type": "code",
      "source": [
        "!mkdir -p data/raw\n",
        "!mv dataset_prestaciones_extrahospitalarias_2025_realista_v1.csv data/raw/\n",
        "!ls data/raw"
      ],
      "metadata": {
        "id": "kkWECoiKUVUa"
      },
      "execution_count": null,
      "outputs": []
    },
    {
      "cell_type": "code",
      "source": [
        "!git init\n",
        "!git config user.name \"julietcass71\"\n",
        "!git config user.email \"doctoracassano@gmail.com\"\n",
        "\n",
        "!git add .\n",
        "!git commit -m \"Scaffold Cookiecutter + dataset (Entrega 2)\"\n",
        "\n",
        "!git branch -M main\n",
        "!git remote add origin https://github.com/julietcass71/EXAMEN_PARCIAL_AA_CASSANO_NANCY_JULIETA.git\n"
      ],
      "metadata": {
        "id": "MOcPzd5aUyqW"
      },
      "execution_count": null,
      "outputs": []
    },
    {
      "cell_type": "code",
      "source": [
        "!git pull --rebase origin main || git pull origin main --allow-unrelated-histories\n"
      ],
      "metadata": {
        "id": "6fBFMrYFV5Mc"
      },
      "execution_count": null,
      "outputs": []
    },
    {
      "cell_type": "code",
      "source": [
        "!git push -u origin main\n"
      ],
      "metadata": {
        "id": "iDplHdykWFb3"
      },
      "execution_count": null,
      "outputs": []
    },
    {
      "cell_type": "code",
      "source": [
        "%cd /content/EXAMEN_PARCIAL_AA_CASSANO_NANCY_JULIETA\n",
        "!git rebase --abort || echo \"No había rebase activo\"\n"
      ],
      "metadata": {
        "id": "hkfSP157WxAr"
      },
      "execution_count": null,
      "outputs": []
    },
    {
      "cell_type": "code",
      "source": [
        "# Traigo el remoto permitiendo historias no relacionadas (porque el repo remoto tenía archivos previos)\n",
        "!git pull origin main --allow-unrelated-histories || true\n",
        "\n",
        "# Resolver conflictos quedándome con mis archivos (los de Cookiecutter)\n",
        "!git checkout --ours .gitignore\n",
        "!git checkout --ours LICENSE\n",
        "!git checkout --ours README.md\n",
        "\n",
        "# Marcar como resuelto y confirmar el merge\n",
        "!git add .gitignore LICENSE README.md\n",
        "!git commit -m \"Merge remote: keep Cookiecutter versions of .gitignore, LICENSE, README\"\n"
      ],
      "metadata": {
        "id": "HwKsfELYW2qS"
      },
      "execution_count": null,
      "outputs": []
    },
    {
      "cell_type": "code",
      "source": [
        "!git fetch origin\n",
        "!git merge -X ours origin/main --allow-unrelated-histories -m \"Merge origin/main (prefer local cookiecutter files)\"\n"
      ],
      "metadata": {
        "id": "lreIeEkFbWS8"
      },
      "execution_count": null,
      "outputs": []
    },
    {
      "cell_type": "code",
      "source": [
        "!git push -u origin main\n"
      ],
      "metadata": {
        "id": "38I-YiWCbalq"
      },
      "execution_count": null,
      "outputs": []
    },
    {
      "cell_type": "code",
      "source": [
        "!git remote set-url origin https://github.com/julietcass71/EXAMEN_PARCIAL_AA_CASSANO_NANCY_JULIETA.git\n"
      ],
      "metadata": {
        "id": "nW9PR7YkchbN"
      },
      "execution_count": null,
      "outputs": []
    },
    {
      "cell_type": "code",
      "source": [
        "!ls -lh data/raw | sed -n '1,50p'"
      ],
      "metadata": {
        "id": "iF7I50mchdU1"
      },
      "execution_count": null,
      "outputs": []
    },
    {
      "cell_type": "code",
      "source": [
        "!git add -f data/raw/dataset_prestaciones_extrahospitalarias_2025_realista_v1.csv\n",
        "!git commit -m \"Add raw dataset (override Cookiecutter ignore for course submission)\"\n",
        "!git push"
      ],
      "metadata": {
        "id": "MlH8UZc7hk1s"
      },
      "execution_count": null,
      "outputs": []
    },
    {
      "cell_type": "code",
      "source": [
        "# Autenticación (oculta)\n",
        "import getpass\n",
        "token = getpass.getpass('Pegá tu GitHub PAT: ')\n"
      ],
      "metadata": {
        "id": "1XLw34v2imzd"
      },
      "execution_count": null,
      "outputs": []
    },
    {
      "cell_type": "code",
      "source": [
        "# Empujar commits (incluye el CSV)\n",
        "!git push -u origin main\n",
        "\n",
        "\n"
      ],
      "metadata": {
        "id": "x-5djJQ0i219"
      },
      "execution_count": null,
      "outputs": []
    },
    {
      "cell_type": "code",
      "source": [
        "from pathlib import Path\n",
        "\n",
        "PROJ = Path(\".\").resolve()\n",
        "\n",
        "RAW = PROJ / \"data\" / \"raw\" / \"dataset_prestaciones_extrahospitalarias_2025_realista_v1.csv\"\n",
        "PROC_DIR = PROJ / \"data\" / \"processed\"\n",
        "PROC = PROC_DIR / \"dataset_prestaciones_extrahospitalarias_2025_realista_v1.csv\"\n",
        "META = PROC.with_name(PROC.stem + \"_metadata.json\")\n",
        "\n",
        "print(\"Proyecto:\", PROJ)\n",
        "print(\"RAW existe?:\", RAW.exists())"
      ],
      "metadata": {
        "id": "Q-aF6e7-IsDC"
      },
      "execution_count": null,
      "outputs": []
    },
    {
      "cell_type": "code",
      "source": [
        "!git clone https://github.com/julietcass71/EXAMEN_PARCIAL_AA_CASSANO_NANCY_JULIETA.git\n",
        "%cd EXAMEN_PARCIAL_AA_CASSANO_NANCY_JULIETA\n",
        "!ls -la\n",
        "!ls -la data/raw\n"
      ],
      "metadata": {
        "id": "u7EH9BnBLVCp"
      },
      "execution_count": null,
      "outputs": []
    },
    {
      "cell_type": "code",
      "source": [
        "# Procesa el dataset raw: processed y genera metadata.json\n",
        "from pathlib import Path\n",
        "import pandas as pd, hashlib, json\n",
        "\n",
        "PROJ = Path(\".\").resolve()\n",
        "RAW = PROJ / \"data\" / \"raw\" / \"dataset_prestaciones_extrahospitalarias_2025_realista_v1.csv\"\n",
        "PROC_DIR = PROJ / \"data\" / \"processed\"\n",
        "PROC = PROC_DIR / RAW.name\n",
        "META = PROC.with_name(PROC.stem + \"_metadata.json\")\n",
        "\n",
        "print(\"Archivo RAW encontrado:\", RAW.exists())\n",
        "print(\"Procesando...\")\n",
        "\n",
        "# Crear carpeta processed\n",
        "PROC_DIR.mkdir(parents=True, exist_ok=True)\n",
        "\n",
        "# Leer CSV\n",
        "df = pd.read_csv(RAW)\n",
        "\n",
        "# Guardar copia procesada (solo verificaR integridad)\n",
        "df.to_csv(PROC, index=False, encoding=\"utf-8\")\n",
        "\n",
        "# Calcular MD5\n",
        "def md5sum(path):\n",
        "    h = hashlib.md5()\n",
        "    with open(path, \"rb\") as f:\n",
        "        for chunk in iter(lambda: f.read(8192), b\"\"):\n",
        "            h.update(chunk)\n",
        "    return h.hexdigest()\n",
        "\n",
        "meta = {\n",
        "    \"version\": \"v1.0\",\n",
        "    \"seed\": 2025,\n",
        "    \"input_csv\": str(RAW),\n",
        "    \"output_csv\": str(PROC),\n",
        "    \"n_rows\": int(df.shape[0]),\n",
        "    \"n_cols\": int(df.shape[1]),\n",
        "    \"md5_in\": md5sum(RAW),\n",
        "    \"md5_out\": md5sum(PROC),\n",
        "    \"columns\": df.columns.tolist()\n",
        "}\n",
        "\n",
        "# Guardar metadata\n",
        "with open(META, \"w\", encoding=\"utf-8\") as f:\n",
        "    json.dump(meta, f, ensure_ascii=False, indent=2)\n",
        "\n",
        "print(\"✅ Dataset procesado y metadata creada\")\n",
        "print(f\"→ MD5 (input): {meta['md5_in']}\")\n",
        "print(f\"→ MD5 (output): {meta['md5_out']}\")\n",
        "print(f\"→ Filas: {meta['n_rows']}, Columnas: {meta['n_cols']}\")\n",
        "print(\"\\nDistribución del target 'autorizar':\")\n",
        "print(df['autorizar'].value_counts(dropna=False))\n"
      ],
      "metadata": {
        "id": "b2XNrEbuL6BU"
      },
      "execution_count": null,
      "outputs": []
    }
  ]
}